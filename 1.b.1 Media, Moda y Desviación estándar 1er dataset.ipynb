{
 "cells": [
  {
   "cell_type": "markdown",
   "id": "d065de76",
   "metadata": {},
   "source": [
    "# Media, Moda, Desviación (feminicidio.csv) "
   ]
  },
  {
   "cell_type": "code",
   "execution_count": 3,
   "id": "aa1a878c",
   "metadata": {},
   "outputs": [
    {
     "data": {
      "text/html": [
       "<div>\n",
       "<style scoped>\n",
       "    .dataframe tbody tr th:only-of-type {\n",
       "        vertical-align: middle;\n",
       "    }\n",
       "\n",
       "    .dataframe tbody tr th {\n",
       "        vertical-align: top;\n",
       "    }\n",
       "\n",
       "    .dataframe thead th {\n",
       "        text-align: right;\n",
       "    }\n",
       "</style>\n",
       "<table border=\"1\" class=\"dataframe\">\n",
       "  <thead>\n",
       "    <tr style=\"text-align: right;\">\n",
       "      <th></th>\n",
       "      <th>Departamento</th>\n",
       "      <th>Area</th>\n",
       "      <th>Relación</th>\n",
       "      <th>Hijos</th>\n",
       "      <th>Victima</th>\n",
       "      <th>Denunciado</th>\n",
       "    </tr>\n",
       "  </thead>\n",
       "  <tbody>\n",
       "    <tr>\n",
       "      <th>0</th>\n",
       "      <td>Oruro</td>\n",
       "      <td>Urbana</td>\n",
       "      <td>Cónyuge</td>\n",
       "      <td>Sí</td>\n",
       "      <td>27 – 59 (adulta)</td>\n",
       "      <td>27 – 59 (adulto)</td>\n",
       "    </tr>\n",
       "    <tr>\n",
       "      <th>1</th>\n",
       "      <td>Cochabamba</td>\n",
       "      <td>Urbana</td>\n",
       "      <td>Otra pareja sentimental</td>\n",
       "      <td>No</td>\n",
       "      <td>18 – 26 (joven)</td>\n",
       "      <td>18 – 26 (joven)</td>\n",
       "    </tr>\n",
       "    <tr>\n",
       "      <th>2</th>\n",
       "      <td>Cochabamba</td>\n",
       "      <td>Urbana</td>\n",
       "      <td>Ex conviviente</td>\n",
       "      <td>No</td>\n",
       "      <td>18 – 26 (joven)</td>\n",
       "      <td>18 – 26 (joven)</td>\n",
       "    </tr>\n",
       "    <tr>\n",
       "      <th>3</th>\n",
       "      <td>Cochabamba</td>\n",
       "      <td>Urbana</td>\n",
       "      <td>Cónyuge</td>\n",
       "      <td>Sí</td>\n",
       "      <td>60 – Más años (adulta mayor)</td>\n",
       "      <td>60 – Más años (adulto mayor)</td>\n",
       "    </tr>\n",
       "    <tr>\n",
       "      <th>4</th>\n",
       "      <td>Cochabamba</td>\n",
       "      <td>Urbana</td>\n",
       "      <td>Conviviente</td>\n",
       "      <td>No</td>\n",
       "      <td>18 – 26 (joven)</td>\n",
       "      <td>18 – 26 (joven)</td>\n",
       "    </tr>\n",
       "  </tbody>\n",
       "</table>\n",
       "</div>"
      ],
      "text/plain": [
       "  Departamento    Area                 Relación Hijos  \\\n",
       "0        Oruro  Urbana                  Cónyuge    Sí   \n",
       "1   Cochabamba  Urbana  Otra pareja sentimental    No   \n",
       "2   Cochabamba  Urbana           Ex conviviente    No   \n",
       "3   Cochabamba  Urbana                  Cónyuge    Sí   \n",
       "4   Cochabamba  Urbana              Conviviente    No   \n",
       "\n",
       "                        Victima                    Denunciado  \n",
       "0              27 – 59 (adulta)              27 – 59 (adulto)  \n",
       "1               18 – 26 (joven)               18 – 26 (joven)  \n",
       "2               18 – 26 (joven)               18 – 26 (joven)  \n",
       "3  60 – Más años (adulta mayor)  60 – Más años (adulto mayor)  \n",
       "4               18 – 26 (joven)               18 – 26 (joven)  "
      ]
     },
     "execution_count": 3,
     "metadata": {},
     "output_type": "execute_result"
    }
   ],
   "source": [
    "import numpy as np\n",
    "from scipy import stats\n",
    "\n",
    "import pandas as pd \n",
    "df = pd.read_csv(\"feminicidio.csv\")\n",
    "df.head()"
   ]
  },
  {
   "cell_type": "markdown",
   "id": "24ca6573",
   "metadata": {},
   "source": [
    "La media aritmetica no aplica por que los datos son cualitativos"
   ]
  },
  {
   "cell_type": "markdown",
   "id": "16f1a729",
   "metadata": {},
   "source": [
    "La moda por columnas"
   ]
  },
  {
   "cell_type": "code",
   "execution_count": 6,
   "id": "c158c71b",
   "metadata": {},
   "outputs": [
    {
     "name": "stdout",
     "output_type": "stream",
     "text": [
      "ModeResult(mode=array([['La Paz', 'Urbana', 'Cónyuge', 'No', '27 – 59 (adulta)',\n",
      "        '27 – 59 (adulto)']], dtype=object), count=array([[ 60, 156,  47, 103,  91,  92]]))\n"
     ]
    }
   ],
   "source": [
    "moda=stats.mode(df)\n",
    "print(moda)"
   ]
  },
  {
   "cell_type": "code",
   "execution_count": 7,
   "id": "2059f087",
   "metadata": {},
   "outputs": [
    {
     "name": "stdout",
     "output_type": "stream",
     "text": [
      "[['La Paz' 'Urbana' 'Cónyuge' 'No' '27 – 59 (adulta)' '27 – 59 (adulto)']]\n"
     ]
    }
   ],
   "source": [
    "print(moda[0])"
   ]
  },
  {
   "cell_type": "markdown",
   "id": "2690152c",
   "metadata": {},
   "source": [
    "La desviacion estandar no aplica por que los datos son cualitativos"
   ]
  },
  {
   "cell_type": "code",
   "execution_count": null,
   "id": "653aaaf5",
   "metadata": {},
   "outputs": [],
   "source": []
  }
 ],
 "metadata": {
  "kernelspec": {
   "display_name": "Python 3 (ipykernel)",
   "language": "python",
   "name": "python3"
  },
  "language_info": {
   "codemirror_mode": {
    "name": "ipython",
    "version": 3
   },
   "file_extension": ".py",
   "mimetype": "text/x-python",
   "name": "python",
   "nbconvert_exporter": "python",
   "pygments_lexer": "ipython3",
   "version": "3.8.11"
  }
 },
 "nbformat": 4,
 "nbformat_minor": 5
}
