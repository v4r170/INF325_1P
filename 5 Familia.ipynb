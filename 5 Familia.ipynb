{
 "cells": [
  {
   "cell_type": "code",
   "execution_count": 12,
   "id": "8d31b78c",
   "metadata": {},
   "outputs": [],
   "source": [
    "from kanren import Relation, facts, conde, run, var"
   ]
  },
  {
   "cell_type": "code",
   "execution_count": 17,
   "id": "ef25c8bf",
   "metadata": {},
   "outputs": [],
   "source": [
    "x=var()\n",
    "\n",
    "padre = Relation()\n",
    "facts(padre,\n",
    "      (\"Alvaro\",\"Ariana\"),\n",
    "      (\"Alvaro\",\"Sebastian\"),\n",
    "      (\"Teodoro\",\"Alvaro\"),\n",
    "      (\"Teodoro\",\"Carlos\"),\n",
    "      (\"Teodoro\",\"Jimena\")\n",
    "      )\n",
    "\n",
    "def abuelo(x,z):\n",
    "    y=var()\n",
    "    return conde((padre(x,y),padre(y,z)))\n",
    "\n",
    "def tio(x,z):\n",
    "    y=var()\n",
    "    return conde((padre(y,x),abuelo(y,z)))\n",
    "\n",
    "def hermanos(x,y):\n",
    "    z=var()\n",
    "    return conde((padre(z,x),padre(z,y)))"
   ]
  },
  {
   "cell_type": "markdown",
   "id": "84cd9f36",
   "metadata": {},
   "source": [
    "Teodoro es padre de Alvaro, Jimena y Carlos"
   ]
  },
  {
   "cell_type": "markdown",
   "id": "9ce83e3f",
   "metadata": {},
   "source": [
    "Alvaro es padre de Ariana y Sebastian"
   ]
  },
  {
   "cell_type": "markdown",
   "id": "43f486ff",
   "metadata": {},
   "source": [
    "Conclusion 1: Jimena y Carlos son tios de Sebastian y Ariana"
   ]
  },
  {
   "cell_type": "markdown",
   "id": "0d2ad39b",
   "metadata": {},
   "source": [
    "Conclusion 2: Teodoro es Abuelo de Sebastian y Ariana"
   ]
  },
  {
   "cell_type": "markdown",
   "id": "1c8ea1e9",
   "metadata": {},
   "source": [
    "Conclusion 3: Sebastian es hermano de Ariana"
   ]
  },
  {
   "cell_type": "markdown",
   "id": "af9234ea",
   "metadata": {},
   "source": [
    "Conclusion 4: Alvaro, Carlos y Jimena son Hermanos"
   ]
  },
  {
   "cell_type": "code",
   "execution_count": 18,
   "id": "75729a71",
   "metadata": {},
   "outputs": [
    {
     "name": "stdout",
     "output_type": "stream",
     "text": [
      "('Teodoro',)\n",
      "('Sebastian', 'Ariana')\n",
      "('Teodoro',)\n",
      "('Alvaro',)\n",
      "('Sebastian', 'Ariana')\n",
      "('Alvaro', 'Carlos', 'Jimena')\n"
     ]
    }
   ],
   "source": [
    "print(run(1,x,padre(x,\"Alvaro\")))\n",
    "print(run(2,x,padre(\"Alvaro\",x)))\n",
    "print(run(1,x,abuelo(x,\"Sebastian\")))\n",
    "print(run(1,x,tio(x,\"Sebastian\")))\n",
    "print(run(2,x,hermanos(x,\"Ariana\")))\n",
    "print(run(3,x,hermanos(x,\"Jimena\")))"
   ]
  },
  {
   "cell_type": "code",
   "execution_count": null,
   "id": "c63bf11e",
   "metadata": {},
   "outputs": [],
   "source": []
  }
 ],
 "metadata": {
  "kernelspec": {
   "display_name": "Python 3 (ipykernel)",
   "language": "python",
   "name": "python3"
  },
  "language_info": {
   "codemirror_mode": {
    "name": "ipython",
    "version": 3
   },
   "file_extension": ".py",
   "mimetype": "text/x-python",
   "name": "python",
   "nbconvert_exporter": "python",
   "pygments_lexer": "ipython3",
   "version": "3.8.11"
  }
 },
 "nbformat": 4,
 "nbformat_minor": 5
}
