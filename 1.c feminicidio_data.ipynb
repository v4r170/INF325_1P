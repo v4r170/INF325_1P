{
 "cells": [
  {
   "cell_type": "markdown",
   "id": "042f86ff",
   "metadata": {},
   "source": [
    "# Feminicidio dataset"
   ]
  },
  {
   "cell_type": "code",
   "execution_count": 1,
   "id": "daded8d5",
   "metadata": {},
   "outputs": [
    {
     "data": {
      "text/html": [
       "<div>\n",
       "<style scoped>\n",
       "    .dataframe tbody tr th:only-of-type {\n",
       "        vertical-align: middle;\n",
       "    }\n",
       "\n",
       "    .dataframe tbody tr th {\n",
       "        vertical-align: top;\n",
       "    }\n",
       "\n",
       "    .dataframe thead th {\n",
       "        text-align: right;\n",
       "    }\n",
       "</style>\n",
       "<table border=\"1\" class=\"dataframe\">\n",
       "  <thead>\n",
       "    <tr style=\"text-align: right;\">\n",
       "      <th></th>\n",
       "      <th>Departamento</th>\n",
       "      <th>Area</th>\n",
       "      <th>Relación</th>\n",
       "      <th>Hijos</th>\n",
       "      <th>Victima</th>\n",
       "      <th>Denunciado</th>\n",
       "    </tr>\n",
       "  </thead>\n",
       "  <tbody>\n",
       "    <tr>\n",
       "      <th>0</th>\n",
       "      <td>Oruro</td>\n",
       "      <td>Urbana</td>\n",
       "      <td>Cónyuge</td>\n",
       "      <td>Sí</td>\n",
       "      <td>27 – 59 (adulta)</td>\n",
       "      <td>27 – 59 (adulto)</td>\n",
       "    </tr>\n",
       "    <tr>\n",
       "      <th>1</th>\n",
       "      <td>Cochabamba</td>\n",
       "      <td>Urbana</td>\n",
       "      <td>Otra pareja sentimental</td>\n",
       "      <td>No</td>\n",
       "      <td>18 – 26 (joven)</td>\n",
       "      <td>18 – 26 (joven)</td>\n",
       "    </tr>\n",
       "    <tr>\n",
       "      <th>2</th>\n",
       "      <td>Cochabamba</td>\n",
       "      <td>Urbana</td>\n",
       "      <td>Ex conviviente</td>\n",
       "      <td>No</td>\n",
       "      <td>18 – 26 (joven)</td>\n",
       "      <td>18 – 26 (joven)</td>\n",
       "    </tr>\n",
       "    <tr>\n",
       "      <th>3</th>\n",
       "      <td>Cochabamba</td>\n",
       "      <td>Urbana</td>\n",
       "      <td>Cónyuge</td>\n",
       "      <td>Sí</td>\n",
       "      <td>60 – Más años (adulta mayor)</td>\n",
       "      <td>60 – Más años (adulto mayor)</td>\n",
       "    </tr>\n",
       "    <tr>\n",
       "      <th>4</th>\n",
       "      <td>Cochabamba</td>\n",
       "      <td>Urbana</td>\n",
       "      <td>Conviviente</td>\n",
       "      <td>No</td>\n",
       "      <td>18 – 26 (joven)</td>\n",
       "      <td>18 – 26 (joven)</td>\n",
       "    </tr>\n",
       "  </tbody>\n",
       "</table>\n",
       "</div>"
      ],
      "text/plain": [
       "  Departamento    Area                 Relación Hijos  \\\n",
       "0        Oruro  Urbana                  Cónyuge    Sí   \n",
       "1   Cochabamba  Urbana  Otra pareja sentimental    No   \n",
       "2   Cochabamba  Urbana           Ex conviviente    No   \n",
       "3   Cochabamba  Urbana                  Cónyuge    Sí   \n",
       "4   Cochabamba  Urbana              Conviviente    No   \n",
       "\n",
       "                        Victima                    Denunciado  \n",
       "0              27 – 59 (adulta)              27 – 59 (adulto)  \n",
       "1               18 – 26 (joven)               18 – 26 (joven)  \n",
       "2               18 – 26 (joven)               18 – 26 (joven)  \n",
       "3  60 – Más años (adulta mayor)  60 – Más años (adulto mayor)  \n",
       "4               18 – 26 (joven)               18 – 26 (joven)  "
      ]
     },
     "execution_count": 1,
     "metadata": {},
     "output_type": "execute_result"
    }
   ],
   "source": [
    "import pandas as pd \n",
    "df = pd.read_csv(\"feminicidio.csv\")\n",
    "df.head()"
   ]
  },
  {
   "cell_type": "code",
   "execution_count": 2,
   "id": "c3143e4c",
   "metadata": {},
   "outputs": [
    {
     "data": {
      "text/plain": [
       "0           Oruro\n",
       "1      Cochabamba\n",
       "2      Cochabamba\n",
       "3      Cochabamba\n",
       "4      Cochabamba\n",
       "          ...    \n",
       "164    Santa Cruz\n",
       "165    Santa Cruz\n",
       "166          Beni\n",
       "167          Beni\n",
       "168          Beni\n",
       "Name: Departamento, Length: 169, dtype: object"
      ]
     },
     "execution_count": 2,
     "metadata": {},
     "output_type": "execute_result"
    }
   ],
   "source": [
    "df[\"Departamento\"]"
   ]
  },
  {
   "cell_type": "code",
   "execution_count": 5,
   "id": "7ce27cb6",
   "metadata": {},
   "outputs": [
    {
     "name": "stdout",
     "output_type": "stream",
     "text": [
      "['La Paz', 'Cochabamba', 'Oruro', 'Tarija', 'Santa Cruz', 'Potosí', 'Chuquisaca', 'Pando', 'Beni']\n",
      "[60, 36, 28, 12, 12, 9, 6, 3, 3]\n"
     ]
    }
   ],
   "source": [
    "import matplotlib.pyplot as plt\n",
    "valores_x=df[\"Departamento\"].value_counts().index.tolist()\n",
    "valores_y=df[\"Departamento\"].value_counts().tolist()\n",
    "print(valores_x)\n",
    "print(valores_y)"
   ]
  },
  {
   "cell_type": "code",
   "execution_count": 6,
   "id": "a3912fe2",
   "metadata": {},
   "outputs": [
    {
     "data": {
      "text/plain": [
       "<function matplotlib.pyplot.show(close=None, block=None)>"
      ]
     },
     "execution_count": 6,
     "metadata": {},
     "output_type": "execute_result"
    },
    {
     "data": {
      "image/png": "[encoded data removed]",
      "text/plain": [
       "<Figure size 432x288 with 1 Axes>"
      ]
     },
     "metadata": {
      "needs_background": "light"
     },
     "output_type": "display_data"
    }
   ],
   "source": [
    "plt.bar(valores_x,valores_y)\n",
    "plt.show"
   ]
  },
  {
   "cell_type": "markdown",
   "id": "fcab1650",
   "metadata": {},
   "source": [
    "Departamentos donde ocurrieron más feminicidios"
   ]
  },
  {
   "cell_type": "code",
   "execution_count": 8,
   "id": "a6361127",
   "metadata": {},
   "outputs": [
    {
     "name": "stdout",
     "output_type": "stream",
     "text": [
      "['Urbana', 'Rural']\n",
      "[156, 13]\n"
     ]
    },
    {
     "data": {
      "text/plain": [
       "<function matplotlib.pyplot.show(close=None, block=None)>"
      ]
     },
     "execution_count": 8,
     "metadata": {},
     "output_type": "execute_result"
    },
    {
     "data": {
      "image/png": "[encoded data removed]",
      "text/plain": [
       "<Figure size 432x288 with 1 Axes>"
      ]
     },
     "metadata": {
      "needs_background": "light"
     },
     "output_type": "display_data"
    }
   ],
   "source": [
    "valores_x=df[\"Area\"].value_counts().index.tolist()\n",
    "valores_y=df[\"Area\"].value_counts().tolist()\n",
    "print(valores_x)\n",
    "print(valores_y)\n",
    "plt.bar(valores_x,valores_y)\n",
    "plt.show"
   ]
  },
  {
   "cell_type": "code",
   "execution_count": 9,
   "id": "db992d57",
   "metadata": {},
   "outputs": [
    {
     "name": "stdout",
     "output_type": "stream",
     "text": [
      "['Cónyuge', 'Conviviente', 'Otra pareja sentimental', 'Otra relación', 'Desconocido', 'Ex Pareja sentimental', 'Ex conviviente', 'Familiar', 'Compañero de estudios', 'Ex cónyuge', 'Compañero de trabajo']\n",
      "[47, 42, 23, 17, 15, 9, 6, 5, 2, 2, 1]\n"
     ]
    },
    {
     "data": {
      "text/plain": [
       "<function matplotlib.pyplot.show(close=None, block=None)>"
      ]
     },
     "execution_count": 9,
     "metadata": {},
     "output_type": "execute_result"
    },
    {
     "data": {
      "image/png": "[encoded data removed]",
      "text/plain": [
       "<Figure size 432x288 with 1 Axes>"
      ]
     },
     "metadata": {
      "needs_background": "light"
     },
     "output_type": "display_data"
    }
   ],
   "source": [
    "valores_x=df[\"Relación\"].value_counts().index.tolist()\n",
    "valores_y=df[\"Relación\"].value_counts().tolist()\n",
    "print(valores_x)\n",
    "print(valores_y)\n",
    "plt.bar(valores_x,valores_y)\n",
    "plt.show"
   ]
  },
  {
   "cell_type": "markdown",
   "id": "f0b03687",
   "metadata": {},
   "source": [
    "La mayoria de las victimas fue agredida por su conyugue,  luego el conviviente, ..."
   ]
  },
  {
   "cell_type": "code",
   "execution_count": 10,
   "id": "8268af0a",
   "metadata": {},
   "outputs": [
    {
     "name": "stdout",
     "output_type": "stream",
     "text": [
      "['No', 'Sí']\n",
      "[103, 57]\n"
     ]
    },
    {
     "data": {
      "text/plain": [
       "<function matplotlib.pyplot.show(close=None, block=None)>"
      ]
     },
     "execution_count": 10,
     "metadata": {},
     "output_type": "execute_result"
    },
    {
     "data": {
      "image/png": "[encoded data removed]",
      "text/plain": [
       "<Figure size 432x288 with 1 Axes>"
      ]
     },
     "metadata": {
      "needs_background": "light"
     },
     "output_type": "display_data"
    }
   ],
   "source": [
    "valores_x=df[\"Hijos\"].value_counts().index.tolist()\n",
    "valores_y=df[\"Hijos\"].value_counts().tolist()\n",
    "print(valores_x)\n",
    "print(valores_y)\n",
    "plt.bar(valores_x,valores_y)\n",
    "plt.show"
   ]
  },
  {
   "cell_type": "markdown",
   "id": "b91d9487",
   "metadata": {},
   "source": [
    "La mayoria de las victimas no tienen hijos con el denunciado"
   ]
  },
  {
   "cell_type": "code",
   "execution_count": 11,
   "id": "8e10c651",
   "metadata": {},
   "outputs": [
    {
     "name": "stdout",
     "output_type": "stream",
     "text": [
      "['27 – 59 (adulta)', '18 – 26 (joven)', '60 – Más años (adulta mayor)', '13 – 17 (adolescente)']\n",
      "[91, 46, 8, 8]\n"
     ]
    },
    {
     "data": {
      "text/plain": [
       "<function matplotlib.pyplot.show(close=None, block=None)>"
      ]
     },
     "execution_count": 11,
     "metadata": {},
     "output_type": "execute_result"
    },
    {
     "data": {
      "image/png": "[encoded data removed]",
      "text/plain": [
       "<Figure size 432x288 with 1 Axes>"
      ]
     },
     "metadata": {
      "needs_background": "light"
     },
     "output_type": "display_data"
    }
   ],
   "source": [
    "valores_x=df[\"Victima\"].value_counts().index.tolist()\n",
    "valores_y=df[\"Victima\"].value_counts().tolist()\n",
    "print(valores_x)\n",
    "print(valores_y)\n",
    "plt.bar(valores_x,valores_y)\n",
    "plt.show"
   ]
  },
  {
   "cell_type": "markdown",
   "id": "a7475342",
   "metadata": {},
   "source": [
    "La mayoria de las victimas son adultas"
   ]
  },
  {
   "cell_type": "code",
   "execution_count": 12,
   "id": "53e4b7af",
   "metadata": {},
   "outputs": [
    {
     "name": "stdout",
     "output_type": "stream",
     "text": [
      "['27 – 59 (adulto)', '18 – 26 (joven)', '60 – Más años (adulto mayor)', '16 – 17 (adolescente)']\n",
      "[92, 39, 7, 4]\n"
     ]
    },
    {
     "data": {
      "text/plain": [
       "<function matplotlib.pyplot.show(close=None, block=None)>"
      ]
     },
     "execution_count": 12,
     "metadata": {},
     "output_type": "execute_result"
    },
    {
     "data": {
      "image/png": "[encoded data removed]",
      "text/plain": [
       "<Figure size 432x288 with 1 Axes>"
      ]
     },
     "metadata": {
      "needs_background": "light"
     },
     "output_type": "display_data"
    }
   ],
   "source": [
    "valores_x=df[\"Denunciado\"].value_counts().index.tolist()\n",
    "valores_y=df[\"Denunciado\"].value_counts().tolist()\n",
    "print(valores_x)\n",
    "print(valores_y)\n",
    "plt.bar(valores_x,valores_y)\n",
    "plt.show"
   ]
  },
  {
   "cell_type": "markdown",
   "id": "3e23d3df",
   "metadata": {},
   "source": [
    "Los denunciados en su mayoria son adultos"
   ]
  },
  {
   "cell_type": "code",
   "execution_count": null,
   "id": "9de6d1db",
   "metadata": {},
   "outputs": [],
   "source": []
  }
 ],
 "metadata": {
  "kernelspec": {
   "display_name": "Python 3 (ipykernel)",
   "language": "python",
   "name": "python3"
  },
  "language_info": {
   "codemirror_mode": {
    "name": "ipython",
    "version": 3
   },
   "file_extension": ".py",
   "mimetype": "text/x-python",
   "name": "python",
   "nbconvert_exporter": "python",
   "pygments_lexer": "ipython3",
   "version": "3.8.11"
  }
 },
 "nbformat": 4,
 "nbformat_minor": 5
}
